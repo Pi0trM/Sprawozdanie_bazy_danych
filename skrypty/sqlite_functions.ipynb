{
  "metadata": {
    "kernelspec": {
      "name": "xpython",
      "display_name": "Python 3.13 (XPython)",
      "language": "python"
    },
    "language_info": {
      "file_extension": ".py",
      "mimetype": "text/x-python",
      "name": "python",
      "version": "3.13.1"
    }
  },
  "nbformat_minor": 5,
  "nbformat": 4,
  "cells": [
    {
      "id": "56aee00a-50cd-411f-93c3-f6112cd81c15",
      "cell_type": "code",
      "source": "\"\"\"\nModuł zawiera funkcje przeznaczone do pracy z bazą danych SQLite.\n\"\"\"\n\nimport sqlite3\nimport pandas as pd\nimport json\nimport sqlalchemy as sa\nimport shutil\n\ndef table_to_json(db_path, table):\n    \"\"\"\n    Przepisuje zawartość tabeli z bazy danych SQLite do pliku JSON.\n    \"\"\"\n    engine = sa.create_engine(f\"sqlite:///{db_path}\")\n    \n    query = f\"SELECT * FROM {table}\"\n    df = pd.read_sql(query, engine)\n    \n    json_file = table + \".json\"\n    df.to_json(json_file, orient='records', force_ascii=False, indent=4)\n    \n    print(f\"Dane wyeksportowano do pliku '{json_file}'.\")\n    return df.head()\n\ndef json_to_table(db_path, table, json_file):\n    \"\"\"\n    Prepisuje zawartość pliku JSON do tabeli w bazie SQLite.\n    Jeśli tabela o podanej nazwie już istnieje, zostanie zamieniona.\n    \"\"\"\n    with open(json_file, encoding='utf-8') as f:\n        data = json.load(f)\n    \n    df = pd.DataFrame(data)\n    \n    engine = sa.create_engine(f\"sqlite:///{db_path}\")\n    \n    df.to_sql(table, con=engine, if_exists='replace', index=False)\n    \n    print(f\"Dane zapisano do tabeli '{table}' w bazie danych.\")\n\ndef create_backup(db_file, db_backup_file):\n    \"\"\"\n    Tworzy kopię bazy danych.\n    \"\"\"\n    shutil.copy2(db_file, db_backup_file)\n    print(f\"Kopia bazy '{db_file}' została zapisana jako '{db_backup_file}'.\")\n\ndef clear_db(db_file):\n    \"\"\"\n    Czyści zawartość bazy danych.\n    \"\"\"\n    engine = sa.create_engine(f\"sqlite:///{db_file}\")\n    meta = sa.MetaData()\n    meta.reflect(bind = engine)\n\n    with engine.begin() as conn:\n        for table in reversed(meta.sorted_tables):\n            conn.execute(sa.text(f\"DROP TABLE IF EXISTS {table.name} CASCADE;\"))\n    print(\"Baza danych została wyczyszczona.\")",
      "metadata": {
        "trusted": true
      },
      "outputs": [],
      "execution_count": null
    }
  ]
}