{
  "metadata": {
    "kernelspec": {
      "name": "xpython",
      "display_name": "Python 3.13 (XPython)",
      "language": "python"
    },
    "language_info": {
      "file_extension": ".py",
      "mimetype": "text/x-python",
      "name": "python",
      "version": "3.13.1"
    }
  },
  "nbformat_minor": 5,
  "nbformat": 4,
  "cells": [
    {
      "id": "26126376-e753-4aee-933c-28e27595af03",
      "cell_type": "code",
      "source": "\"\"\"\nModuł zawiera funkcje przeznaczone do pracy z bazą danych PostgreSQL.\n\"\"\"\n\nimport json\nimport pandas as pd\nimport sqlalchemy as sa\nimport subprocess\n\ndef get_connection_string(config_file = \"database_creds.json\"):\n    \"\"\"\n    Zwraca connection string do połączenia z bazą PostgreSQL na podstawie pliku konfiguracyjnego.\n    Używana w dalszych funkcjach.\n    \"\"\"\n    with open(config_file, encoding=\"utf-8\") as db_con_file:\n        creds = json.load(db_con_file)\n\n    return \"postgresql+psycopg2://{user}:{password}@{host}:{port}/{db_name}\".format(\n        user=creds['user_name'],\n        password=creds['password'],\n        host=creds['host_name'],\n        port=creds['port_number'],\n        db_name=creds['db_name']\n    )\n\ndef connect_to_db(config_file = \"database_creds.json\"):\n    \"\"\"\n    Łączy się z bazą danych PostgreSQL za pośrednictwem danych zawartych w pliku database_creds.json.\n    \"\"\"\n    %load_ext sql\n\n    with open(config_file, encoding = \"utf-8\") as db_con_file:\n        creds = json.load(db_con_file)\n\n    connection_string = get_connection_string(config_file)\n    \n    print(\"Połączono z bazą.\")\n    %sql $connection_string\n\ndef table_to_csv(table, config_file = \"database_creds.json\"):\n    \"\"\"\n    Przepisuje zawartość tabeli z bazy danych PostgreSQL do pliku CSV.\n    \"\"\"\n    with open(config_file, encoding = \"utf-8\") as db_con_file:\n        creds = json.load(db_con_file)\n\n    connection_string = get_connection_string(config_file)\n    \n    engine = sa.create_engine(connection_string)\n\n    query = f\"SELECT * FROM {table}\"\n    df = pd.read_sql(query, engine)\n\n    csv_file = table + \".csv\"\n    df.to_csv(csv_file, index = False, encoding = 'utf-8')\n\n    print(f\"Wyeksportowano dane z tabeli '{table}' do pliku '{csv_file}'.\")\n    return df.head()\n\ndef csv_to_table(table, csv_file, config_file = \"database_creds.json\"):\n    \"\"\"\n    Prepisuje zawartość pliku CSV do tabeli w bazie PostgreSQL.\n    Jeśli tabela o podanej nazwie już istnieje, zostanie zamieniona.\n    \"\"\"\n    with open(config_file, encoding = \"utf-8\") as db_con_file:\n        creds = json.load(db_con_file)\n\n    connection_string = get_connection_string(config_file)\n    \n    df = pd.read_csv(csv_file, dtype = {\"PESEL\": str})  # Zastosowanie typu string ma na celu zachowanie zer występujących na początku.\n\n    engine = sa.create_engine(connection_string)\n\n    df.to_sql(table, con=engine, if_exists = 'replace', index=False)\n\n    print(f\"Zaimportowano dane do tabeli '{table}'.\")\n\ndef create_backup(backup_file, config_file = \"database_creds.json\"):\n    \"\"\"\n    Tworzy kopię bazy danych.\n    \"\"\"\n    with open(config_file, encoding = \"utf-8\") as db_con_file:\n        creds = json.load(db_con_file)\n    \n    command = [\n        \"pg_dump\",\n        \"-h\", creds[\"host_name\"],\n        \"-p\", str(creds[\"port_number\"]),\n        \"-U\", creds[\"user_name\"],\n        \"-F\", \"c\",\n        \"-b\",\n        \"-f\", backup_file,\n        creds[\"db_name\"]\n    ]\n    print(\"Tworzę backup PostgreSQL...\")\n    \n    env = os.environ.copy()\n    env[\"PGPASSWORD\"] = creds[\"password\"]\n    \n    result = subprocess.run(command, env=env)\n    \n    if result.returncode == 0:\n        print(f\"Kopia zapisana do pliku '{backup_file}'.\")\n    else:\n        print(\"Błąd podczas tworzenia kopii zapasowej.\")\n\ndef clear_db(config_file = \"database_creds.json\"):\n    \"\"\"\n    Czyści zawartość bazy danych.\n    \"\"\"\n    with open(config_file, encoding = \"utf-8\") as db_con_file:\n        creds = json.load(db_con_file)\n\n    connection_string = get_connection_string(config_file)\n    \n    engine = sa.create_engine(connection_string)\n    meta = sa.MetaData()\n    meta.reflect(bind = engine)\n\n    with engine.begin() as conn:\n        for table in reversed(meta.sorted_tables):\n            conn.execute(sa.text(f\"DROP TABLE IF EXISTS {table.name} CASCADE;\"))\n    print(\"Baza danych została wyczyszczona.\")\n",
      "metadata": {
        "trusted": true
      },
      "outputs": [],
      "execution_count": null
    }
  ]
}