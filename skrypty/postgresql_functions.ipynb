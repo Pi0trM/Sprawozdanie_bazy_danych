{
  "metadata": {
    "kernelspec": {
      "name": "xpython",
      "display_name": "Python 3.13 (XPython)",
      "language": "python"
    },
    "language_info": {
      "file_extension": ".py",
      "mimetype": "text/x-python",
      "name": "python",
      "version": "3.13.1"
    }
  },
  "nbformat_minor": 5,
  "nbformat": 4,
  "cells": [
    {
      "id": "26126376-e753-4aee-933c-28e27595af03",
      "cell_type": "code",
      "source": "import json\nimport pandas as pd\nimport sqlalchemy as sa\n\ndef connect_to_db(config_file=\"database_creds.json\"):\n    \"\"\"Łączy się z bazą danych PostgreSQL za pośrednictwem danych zawartych w pliku database_creds.json.\"\"\"\n    %load_ext sql\n\n    with open(config_file, encoding=\"utf-8\") as db_con_file:\n        creds = json.load(db_con_file)\n\n    connection_string = \"postgresql+psycopg2://{user}:{password}@{host}:{port}/{db_name}\".format(\n        user=creds['user_name'],\n        password=creds['password'],\n        host=creds['host_name'],\n        port=creds['port_number'],\n        db_name=creds['db_name']\n    )\n    \n    print(\"Połączono z bazą.\")\n    %sql $connection_string\n\n    return connection_string\n\ndef import_table_as_csv(connection_string, table):\n    \"\"\"\n    Przepisuje zawartość tabeli z bazy danych PostgreSQL do pliku CSV.\n    \"\"\"\n    engine = sa.create_engine(connection_string)\n\n    query = f\"SELECT * FROM {table}\"\n    df = pd.read_sql(query, engine)\n\n    csv_file = table + \".csv\"\n    df.to_csv(csv_file, index=False, encoding='utf-8')\n\n    print(f\"Wyeksportowano dane z tabeli '{table}' do pliku '{csv_file}'.\")\n    return df.head()\n\ndef csv_to_table(connection_string, table, csv_file):\n    \"\"\"\n    Prepisuje zawartość pliku JSON do tabeli w bazie SQLite.\n    Jeśli tabela o podanej nazwie już istnieje, zostanie zamieniona.\n    \"\"\"\n    df = pd.read_csv(csv_file, dtype={\"PESEL\": str})  # Zastosowanie typu string ma na celu zachowanie zer występujących na początku.\n\n    engine = sa.create_engine(connection_string)\n\n    df.to_sql(table, con=engine, if_exists='replace', index=False)\n\n    print(f\"Zaimportowano dane do tabeli '{table}'.\")",
      "metadata": {
        "trusted": true
      },
      "outputs": [],
      "execution_count": null
    }
  ]
}