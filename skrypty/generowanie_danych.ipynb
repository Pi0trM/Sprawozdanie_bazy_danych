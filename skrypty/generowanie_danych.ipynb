{
  "metadata": {
    "kernelspec": {
      "name": "python",
      "display_name": "Python (Pyodide)",
      "language": "python"
    },
    "language_info": {
      "codemirror_mode": {
        "name": "python",
        "version": 3
      },
      "file_extension": ".py",
      "mimetype": "text/x-python",
      "name": "python",
      "nbconvert_exporter": "python",
      "pygments_lexer": "ipython3",
      "version": "3.8"
    }
  },
  "nbformat_minor": 5,
  "nbformat": 4,
  "cells": [
    {
      "id": "04130477-2b32-407f-9911-ab450aec3d1c",
      "cell_type": "code",
      "source": "import csv\nimport json\nimport random\nfrom datetime import datetime, timedelta\n\ndef generate_data():\n    #Możliwe imiona i nazwiska kandydatów\n    imiona_m = [\"Adam\", \"Aleksander\", \"Andrzej\", \"Bartosz\", \"Borys\", \"Cezary\", \"Damian\", \"Dawid\", \"Eryk\", \"Fabian\", \n                \"Filip\", \"Grzegorz\", \"Hubert\", \"Igor\", \"Jakub\", \"Kamil\", \"Krzysztof\", \"Leon\", \"Maciej\", \"Mikołaj\", \n                \"Nikodem\", \"Oskar\", \"Patryk\", \"Rafał\", \"Szymon\", \"Tobiasz\", \"Tymon\", \"Wiktor\", \"Zbigniew\", \"Zygmunt\"]\n    \n    imiona_f = [\"Alicja\", \"Anna\", \"Barbara\", \"Beata\", \"Cecylia\", \"Dominika\", \"Eliza\", \"Gabriela\", \"Hanna\", \"Iga\", \n                \"Jagoda\", \"Julia\", \"Karolina\", \"Katarzyna\", \"Kinga\", \"Laura\", \"Lena\", \"Lidia\", \"Magdalena\", \n                \"Marcelina\", \"Milena\", \"Natalia\", \"Natasza\", \"Oliwia\", \"Paulina\", \"Roksana\", \"Sandra\", \"Sylwia\", \n                \"Weronika\", \"Zofia\"]\n    \n    nazwiska_m = [\"Kowalski\", \"Nowak\", \"Wiśniewski\", \"Dąbrowski\", \"Lewandowski\", \"Wójcik\", \"Kamiński\", \"Zieliński\", \"Szymański\", \"Woźniak\",\n                  \"Kozłowski\", \"Jankowski\", \"Mazur\", \"Kwiatkowski\", \"Wróbel\", \"Piotrowski\", \"Grabowski\", \"Zając\", \"Król\", \"Pawlak\",\n                  \"Michalski\", \"Adamczyk\", \"Nowicki\", \"Dudek\", \"Wieczorek\", \"Jabłoński\", \"Górski\", \"Walczak\", \"Rutkowski\", \"Michalak\",\n                  \"Sikora\", \"Ostrowski\", \"Baran\", \"Pietrzak\", \"Wasilewski\", \"Czarnecki\", \"Szulc\", \"Makowski\", \"Kubiak\", \"Wilk\",\n                  \"Grzelak\", \"Kucharski\", \"Wróblewski\", \"Lis\", \"Kaczmarek\", \"Mazurek\", \"Sobczak\", \"Czerwiński\", \"Andrzejewski\", \"Stępień\",\n                  \"Malinowski\", \"Urban\", \"Tokarski\", \"Tomczak\", \"Janik\", \"Bednarek\", \"Skiba\", \"Borowski\", \"Musiał\", \"Krajewski\",\n                  \"Polak\", \"Matusiak\", \"Gajewski\", \"Orłowski\", \"Kulesza\", \"Wilczyński\", \"Janowski\", \"Głowacki\", \"Sadowski\", \"Staniszewski\"]\n    \n    nazwiska_f = [nazwisko[:-1] + \"a\" if nazwisko.endswith(\"i\") else nazwisko for nazwisko in nazwiska_m]\n    \n    #Generujemy PESEL\n    pesel = ''.join(str(random.randint(0, 9)) for _ in range(11))\n    \n    #Ustalamy płeć na podstawie dziesiątej cyfry w PESELu i dobieramy odpowiednie imię i formę nazwiska.\n    if int(pesel[9]) % 2 == 0:\n        imie = random.choice(imiona_f)\n        nazwisko = random.choice(nazwiska_f)\n    else:\n        imie = random.choice(imiona_m)\n        nazwisko = random.choice(nazwiska_m)\n       \n    #Generujemy kod pocztowy, numer telefonu, średnią maturalną, status aplikacji, datę rekrutacji oraz wydzial\n    kodpocztowy = f\"{random.randint(00, 99):02}-{random.randint(000, 999):03}\"\n    \n    telefon = f\"+48 {random.randint(500, 899)}-{random.randint(100, 999)}-{random.randint(100, 999)}\"\n     \n    sredniamaturalna = round(random.uniform(50.00, 90.00), 2)\n        \n    statusaplikacji = \"\"\n    if sredniamaturalna > 80:\n        statusaplikacji = random.choice([\"oczekuje\", \"zaakceptowany\"])\n    elif sredniamaturalna < 60:\n        statusaplikacji = \"odrzucony\"\n    else:\n        statusaplikacji = random.choice([\"oczekuje\", \"zaakceptowany\", \"odrzucony\"])\n     \n    datarekrutacji = (datetime.today() - timedelta(days=random.randint(0, 30))).strftime(\"%Y-%m-%d\")\n    \n    id_wydzialu = random.choice([0, 1, 2, 3, 4, 5, 6, 7])\n    wydzialy = [\"Informatyka\", \"Matematyka\", \"Biologia\", \"Fizyka\", \"Prawo\", \"Ekonomia\", \"Filologia\", \"Medycyna\"]\n    wydzial_nazwa = wydzialy[id_wydzialu]\n    \n    return [pesel, imie, nazwisko, kodpocztowy, telefon,\n            datarekrutacji, sredniamaturalna, statusaplikacji,\n            id_wydzialu, wydzial_nazwa]\n\n\n#Generowanie pliku CSV\ndef generate_csv():\n    file_name = \"kandydaci.csv\"\n    with open(file_name, mode='w', newline='', encoding='utf-8') as file:\n        writer = csv.writer(file)\n        writer.writerow([\"PESEL\", \"imie\", \"nazwisko\", \"kodpocztowy\", \"telefon\",\n                         \"datarekrutacji\", \"sredniamaturalna\", \"statusaplikacji\",\n                         \"IDwydzialu\", \"nazwawydzialu\"])\n         \n        for _ in range(300):\n            writer.writerow(generate_data())\n    \n    print(f\"Plik '{file_name}' został wygenerowany.\")\n\n#Generowanie pliku JSON\ndef generate_json():\n    file_name = \"kandydaci.json\"\n    dane = []\n    \n    for _ in range(300):\n        pesel, imie, nazwisko, kodpocztowy, telefon, datarekrutacji, sredniamaturalna, statusaplikacji, id_wydzialu, wydzial_nazwa = generate_data()\n        kandydat = {\n            \"PESEL\": pesel,\n            \"imie\": imie,\n            \"nazwisko\": nazwisko,\n            \"kodpocztowy\": kodpocztowy,\n            \"telefon\": telefon,\n            \"datarekrutacji\": datarekrutacji,\n            \"sredniamaturalna\": sredniamaturalna,\n            \"statusaplikacji\": statusaplikacji,\n            \"IDwydzialu\": id_wydzialu,\n            \"nazwawydzialu\": wydzial_nazwa\n        }\n        \n        dane.append(kandydat)\n    \n    with open(file_name, 'w', encoding='utf-8') as f:\n        json.dump(dane, f, ensure_ascii=False, indent=4)\n    \n    print(f\"Plik '{file_name}' został wygenerowany.\")\n\ngenerate_csv()\ngenerate_json()",
      "metadata": {
        "trusted": true
      },
      "outputs": [
        {
          "name": "stdout",
          "output_type": "stream",
          "text": "Plik 'kandydaci.csv' został wygenerowany.\nPlik 'kandydaci.json' został wygenerowany.\n"
        }
      ],
      "execution_count": 1
    },
    {
      "id": "b1e0cfa8-8106-42cc-a2ac-30722c238363",
      "cell_type": "code",
      "source": "",
      "metadata": {
        "trusted": true
      },
      "outputs": [],
      "execution_count": null
    }
  ]
}